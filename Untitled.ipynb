{
 "cells": [
  {
   "cell_type": "code",
   "execution_count": 1,
   "id": "7b988a0c-35d3-4e70-9923-ece08d238701",
   "metadata": {},
   "outputs": [
    {
     "name": "stdout",
     "output_type": "stream",
     "text": [
      "Defaulting to user installation because normal site-packages is not writeable\n",
      "Requirement already satisfied: musdb in /home/mewan/.local/lib/python3.10/site-packages (0.4.2)\n",
      "Requirement already satisfied: tqdm in /home/mewan/.local/lib/python3.10/site-packages (from musdb) (4.66.1)\n",
      "Requirement already satisfied: stempeg>=0.2.3 in /home/mewan/.local/lib/python3.10/site-packages (from musdb) (0.2.3)\n",
      "Requirement already satisfied: numpy>=1.7 in /home/mewan/.local/lib/python3.10/site-packages (from musdb) (1.26.2)\n",
      "Requirement already satisfied: pyaml in /home/mewan/.local/lib/python3.10/site-packages (from musdb) (23.9.7)\n",
      "Requirement already satisfied: ffmpeg-python>=0.2.0 in /home/mewan/.local/lib/python3.10/site-packages (from stempeg>=0.2.3->musdb) (0.2.0)\n",
      "Requirement already satisfied: PyYAML in /usr/lib/python3/dist-packages (from pyaml->musdb) (5.4.1)\n",
      "Requirement already satisfied: future in /home/mewan/.local/lib/python3.10/site-packages (from ffmpeg-python>=0.2.0->stempeg>=0.2.3->musdb) (0.18.3)\n"
     ]
    }
   ],
   "source": [
    "!pip install musdb"
   ]
  },
  {
   "cell_type": "code",
   "execution_count": 2,
   "id": "93b76232-f55b-45d1-8a1d-d4c163f1da53",
   "metadata": {},
   "outputs": [],
   "source": [
    "import musdb"
   ]
  },
  {
   "cell_type": "code",
   "execution_count": null,
   "id": "b5aabd80-a319-466b-b3cc-c062b3c81d14",
   "metadata": {},
   "outputs": [],
   "source": []
  }
 ],
 "metadata": {
  "kernelspec": {
   "display_name": "Python 3 (ipykernel)",
   "language": "python",
   "name": "python3"
  },
  "language_info": {
   "codemirror_mode": {
    "name": "ipython",
    "version": 3
   },
   "file_extension": ".py",
   "mimetype": "text/x-python",
   "name": "python",
   "nbconvert_exporter": "python",
   "pygments_lexer": "ipython3",
   "version": "3.10.12"
  }
 },
 "nbformat": 4,
 "nbformat_minor": 5
}
